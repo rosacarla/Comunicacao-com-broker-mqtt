{
  "nbformat": 4,
  "nbformat_minor": 0,
  "metadata": {
    "colab": {
      "provenance": [],
      "authorship_tag": "ABX9TyPMZ1r9BuI3EnJByyU4JIsa",
      "include_colab_link": true
    },
    "kernelspec": {
      "name": "python3",
      "display_name": "Python 3"
    },
    "language_info": {
      "name": "python"
    }
  },
  "cells": [
    {
      "cell_type": "markdown",
      "metadata": {
        "id": "view-in-github",
        "colab_type": "text"
      },
      "source": [
        "<a href=\"https://colab.research.google.com/github/rosacarla/comunicacao-com-broker-mqtt/blob/main/comunicacao_HiveMQ.ipynb\" target=\"_parent\"><img src=\"https://colab.research.google.com/assets/colab-badge.svg\" alt=\"Open In Colab\"/></a>"
      ]
    },
    {
      "cell_type": "markdown",
      "source": [
        "># TESTE DE CONEXÃO DE UM DISPOSITIVO IOT COM BROKER MQTT\n",
        "> CURSO: TECNOLOGIA EM INTELIGÊNCIA ARTIFICIAL APLICADA  \n",
        "> DISCIPLINA: INTERNET DAS COISAS EM UM MUNDO CONECTADO  \n",
        "> AUTORA: CARLA EDILA SILVEIRA  \n",
        "> OBJETIVO: testar dispositivo em Python para monitorar temperatura e umidade e controlar um aquecedor, com uso de navegador como ferramenta de visualização dos dados  \n",
        "> DATA: 15/09/2023\n",
        "\n",
        "<img src='https://i.postimg.cc/Zn1FXjWR/esquem-mqtt.png' width=960 height=480>"
      ],
      "metadata": {
        "id": "Av3sGQlInz4y"
      }
    },
    {
      "cell_type": "code",
      "source": [
        "# Importa bibliotecas\n",
        "\n",
        "import paho.mqtt.client as mqtt # paho eh biblioteca principal para trabalhar com mqtt\n",
        "import time # biblioteca de temporalizacao"
      ],
      "metadata": {
        "id": "43lOshiCqp00"
      },
      "execution_count": null,
      "outputs": []
    },
    {
      "cell_type": "code",
      "source": [
        "# Configuracoes de credenciais para conexao com broker MQTT\n",
        "\n",
        "user = '' # não preencher user e password porque HiveMQ nao precisa\n",
        "password = '' # deve preencher para outros tipos de broker\n",
        "client_id = 'abcdefghijk12345678' # para hive pode ser string sem espaços como identificador do dispositivo\n",
        "server = 'mqtt-dashboard.com' # usar servidor que aparece na tela do HiveMQ\n",
        "port = 1883 # usar porta padrao do mqtt (1883), dispensar porta que há na interface do navegador"
      ],
      "metadata": {
        "id": "sp-TJHBpq6f2"
      },
      "execution_count": null,
      "outputs": []
    },
    {
      "cell_type": "code",
      "source": [
        "# Faz conexao com HiveMQ\n",
        "\n",
        "client = mqtt.Client(client_id) # objeto recebe a id do cliente\n",
        "client.username_pw_set(user, password) # objeto recebe usuario e senha\n",
        "client.connect(server, port) # objeto recebe servidor e porta"
      ],
      "metadata": {
        "id": "toBRbr6pq_on"
      },
      "execution_count": null,
      "outputs": []
    },
    {
      "cell_type": "code",
      "source": [
        "# Faz publish\n",
        "\n",
        "client.publish('pucpr/iotmc/carla/temperatura', '24.1') # argumentos sao topico e mensagem\n",
        "# evitar envio de informacoes compostas na mensagem, a menos que tenha necessidade\n",
        "time.sleep(1) # pausa para enviar a mensagem antes de desconectar"
      ],
      "metadata": {
        "id": "_FAhqM5QrGcB"
      },
      "execution_count": null,
      "outputs": []
    },
    {
      "cell_type": "markdown",
      "source": [
        "> OBSERVAÇÃO: Após conectar ao HiveMQ, criar tópico 'pucpr/iotmc/carla/#' no navegador para monitoramento de mensagens enviadas pelo código."
      ],
      "metadata": {
        "id": "d5CboBiDrRTD"
      }
    },
    {
      "cell_type": "code",
      "source": [
        "# Desconecta do broker\n",
        "\n",
        "client.disconnect(0)"
      ],
      "metadata": {
        "id": "PZu_QPs-r-K9"
      },
      "execution_count": null,
      "outputs": []
    },
    {
      "cell_type": "markdown",
      "source": [
        "> VISUALIZAÇÃO DE MENSAGENS RECEBIDAS NO DASHBOARD DO HIVEMQ  \n",
        "<img src='https://i.postimg.cc/VkdBzJyM/tela-topicos-hivemq.png'>"
      ],
      "metadata": {
        "id": "x26LG11lsFdp"
      }
    }
  ]
}