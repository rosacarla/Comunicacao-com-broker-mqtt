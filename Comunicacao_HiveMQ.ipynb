{
  "nbformat": 4,
  "nbformat_minor": 0,
  "metadata": {
    "colab": {
      "provenance": [],
      "authorship_tag": "ABX9TyNys5pa2DKxefWrhWMIKL9t",
      "include_colab_link": true
    },
    "kernelspec": {
      "name": "python3",
      "display_name": "Python 3"
    },
    "language_info": {
      "name": "python"
    }
  },
  "cells": [
    {
      "cell_type": "markdown",
      "metadata": {
        "id": "view-in-github",
        "colab_type": "text"
      },
      "source": [
        "<a href=\"https://colab.research.google.com/github/rosacarla/Comunicacao-com-broker-mqtt/blob/main/Comunicacao_HiveMQ.ipynb\" target=\"_parent\"><img src=\"https://colab.research.google.com/assets/colab-badge.svg\" alt=\"Open In Colab\"/></a>"
      ]
    },
    {
      "cell_type": "markdown",
      "source": [
        "># TESTE DE CONEXÃO DE UM DISPOSITIVO IOT COM BROKER MQTT\n",
        "> CURSO: TECNOLOGIA EM INTELIGÊNCIA ARTIFICIAL APLICADA  \n",
        "> DISCIPLINA: INTERNET DAS COISAS EM UM MUNDO CONECTADO  \n",
        "> AUTORA: CARLA EDILA SILVEIRA  \n",
        "> OBJETIVO: testar dispositivo simulado em Python para monitorar temperatura e umidade e controlar um aquecedor, com uso de navegador como ferramenta de visualização dos dados  \n",
        "> DATA: 15/09/2023\n",
        "\n",
        "> <img src='https://i.postimg.cc/Zn1FXjWR/esquem-mqtt.png' width=960 height=480>"
      ],
      "metadata": {
        "id": "Av3sGQlInz4y"
      }
    },
    {
      "cell_type": "code",
      "source": [
        "# Instala biblioteca paho-mqtt\n",
        "# Executar instalacao somente 1 vez\n",
        "\n",
        "%pip install paho-mqtt"
      ],
      "metadata": {
        "colab": {
          "base_uri": "https://localhost:8080/"
        },
        "id": "JnvwDDUCH9TU",
        "outputId": "043d7068-1db5-4f0f-ef83-fd1f7e369d57"
      },
      "execution_count": 2,
      "outputs": [
        {
          "output_type": "stream",
          "name": "stdout",
          "text": [
            "Collecting paho-mqtt\n",
            "  Downloading paho-mqtt-1.6.1.tar.gz (99 kB)\n",
            "\u001b[?25l     \u001b[90m━━━━━━━━━━━━━━━━━━━━━━━━━━━━━━━━━━━━━━━━\u001b[0m \u001b[32m0.0/99.4 kB\u001b[0m \u001b[31m?\u001b[0m eta \u001b[36m-:--:--\u001b[0m\r\u001b[2K     \u001b[90m━━━━━━━━━━━━━━━━━━━━━━━━━━━━━━━━━━━━━━━━\u001b[0m \u001b[32m99.4/99.4 kB\u001b[0m \u001b[31m3.2 MB/s\u001b[0m eta \u001b[36m0:00:00\u001b[0m\n",
            "\u001b[?25h  Preparing metadata (setup.py) ... \u001b[?25l\u001b[?25hdone\n",
            "Building wheels for collected packages: paho-mqtt\n",
            "  Building wheel for paho-mqtt (setup.py) ... \u001b[?25l\u001b[?25hdone\n",
            "  Created wheel for paho-mqtt: filename=paho_mqtt-1.6.1-py3-none-any.whl size=62118 sha256=00cae4868e7044ddfcb1404b1f37ddc68454427b408dd33b764c3f782d850de5\n",
            "  Stored in directory: /root/.cache/pip/wheels/8b/bb/0c/79444d1dee20324d442856979b5b519b48828b0bd3d05df84a\n",
            "Successfully built paho-mqtt\n",
            "Installing collected packages: paho-mqtt\n",
            "Successfully installed paho-mqtt-1.6.1\n"
          ]
        }
      ]
    },
    {
      "cell_type": "code",
      "source": [
        "# Importa bibliotecas\n",
        "\n",
        "import paho.mqtt.client as mqtt # paho eh biblioteca principal para trabalhar com mqtt\n",
        "import time # biblioteca de temporalizacao\n",
        "from hal import temperatura, umidade, aquecedor\n",
        "from definitions import user, password, client_id, server, port"
      ],
      "metadata": {
        "id": "43lOshiCqp00"
      },
      "execution_count": 14,
      "outputs": []
    },
    {
      "cell_type": "code",
      "source": [
        "# Configuracoes de credenciais para conexao com broker MQTT\n",
        "\n",
        "#user = '' # não preencher user e password porque HiveMQ nao precisa\n",
        "#password = '' # deve preencher para outros tipos de broker\n",
        "#client_id = 'abcdefghijk12345678' # para hive pode ser string sem espaços como identificador do dispositivo\n",
        "#server = 'mqtt-dashboard.com' # usar servidor que aparece na tela do HiveMQ\n",
        "#port = 1883 # usar porta padrao do mqtt (1883), dispensar porta que há na interface do navegador"
      ],
      "metadata": {
        "id": "sp-TJHBpq6f2"
      },
      "execution_count": 15,
      "outputs": []
    },
    {
      "cell_type": "code",
      "source": [
        "# Faz conexao com HiveMQ\n",
        "\n",
        "client = mqtt.Client(client_id) # objeto recebe a id do cliente\n",
        "client.username_pw_set(user, password) # objeto recebe usuario e senha\n",
        "client.connect(server, port) # objeto recebe servidor e porta"
      ],
      "metadata": {
        "id": "toBRbr6pq_on",
        "colab": {
          "base_uri": "https://localhost:8080/"
        },
        "outputId": "5b8ef343-20cb-42ac-ee1d-925b82a46737"
      },
      "execution_count": 16,
      "outputs": [
        {
          "output_type": "execute_result",
          "data": {
            "text/plain": [
              "0"
            ]
          },
          "metadata": {},
          "execution_count": 16
        }
      ]
    },
    {
      "cell_type": "code",
      "source": [
        "# Faz publish em looping para passar 2 informações distintas\n",
        "# Argumentos sao topico e mensagem\n",
        "\n",
        "while True:\n",
        "    client.publish('pucpr/iotmc/carla/temperatura', temperatura()) # acessa hardware de sensor de temperatura\n",
        "    # evitar envio de informacoes compostas na mensagem, a menos que tenha necessidade\n",
        "    client.publish('pucpr/iotmc/carla/umidade', umidade()) # acessa hardware de sensor de umidade\n",
        "    time.sleep(5) # pausa para enviar a mensagem\n",
        "    # apos conectar o HIveMQ, criar topico 'pucpr/iotmc/carla/#' para monitoramento de mensagens via codigo"
      ],
      "metadata": {
        "id": "_FAhqM5QrGcB"
      },
      "execution_count": null,
      "outputs": []
    },
    {
      "cell_type": "markdown",
      "source": [
        "> OBSERVAÇÃO: Após conectar ao HiveMQ, criar tópico 'pucpr/iotmc/carla/#' no navegador para monitoramento de mensagens enviadas pelo código."
      ],
      "metadata": {
        "id": "d5CboBiDrRTD"
      }
    },
    {
      "cell_type": "code",
      "source": [
        "# Desconecta do broker\n",
        "\n",
        "# client.disconnect(0) #desativada a linha de comando para rodar laço while"
      ],
      "metadata": {
        "id": "PZu_QPs-r-K9"
      },
      "execution_count": null,
      "outputs": []
    },
    {
      "cell_type": "markdown",
      "source": [
        "> VISUALIZAÇÃO DE MENSAGENS RECEBIDAS NO DASHBOARD DO HIVEMQ  \n",
        "> - 1a. execução de tópico sobre temperatura  \n",
        "\n",
        "> <img src='https://i.postimg.cc/VkdBzJyM/tela-topicos-hivemq.png'>  \n",
        "\n",
        "> - 2a. execução de 2 tópicos (temperatura e umidade)  \n",
        "\n",
        "> <img src='https://i.postimg.cc/3JL7yC9k/tela-topicos2-hive.png'>  \n",
        "\n",
        "> - 3a. execução de 2 tópicos com valores aleatórios (temperatura e umidade)  \n",
        "\n",
        "> <img src='https://i.postimg.cc/Nj5DpJZ2/tela-topicos3-hive.png'>  \n",
        "\n",
        "> 4a. execução de 2 tópicos com valores aleatórios (temperatura e umidade) e reorganização do código  \n",
        "\n",
        "> <img src='https://i.postimg.cc/YC2W2vt6/tela-topicos4-hive.png'>  \n",
        "\n",
        "\n"
      ],
      "metadata": {
        "id": "x26LG11lsFdp"
      }
    }
  ]
}